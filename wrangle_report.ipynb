{
 "cells": [
  {
   "cell_type": "markdown",
   "metadata": {},
   "source": [
    "## Reporting: wragle_report\n",
    "* Create a **300-600 word written report** called \"wrangle_report.pdf\" or \"wrangle_report.html\" that briefly describes your wrangling efforts. This is to be framed as an internal document."
   ]
  },
  {
   "cell_type": "markdown",
   "metadata": {},
   "source": [
    "Introduction:\n",
    "\n",
    "This report outlines the process of addressing data quality and tidiness issues in a Python-based data analysis project involving Twitter dog data. The goal of this project is to perform comprehensive analysis and gain insights into the data. To achieve this, we first need to clean and prepare the data by addressing both quality and tidiness issues.\n",
    "\n",
    "Tidiness Issues:\n",
    "\n",
    "Dog Stage Column: The dataset contains four columns (doggo, floofer, pupper, and puppo) representing different dog stages. To tidy up the data, we will merge these columns into a single column called \"dog_stage.\"\n",
    "\n",
    "Unnecessary Columns: Columns such as retweeted_status_id, retweeted_status_user_id, and retweeted_status_timestamp that are not null are not needed for this analysis. Additionally, tweets without images will also be excluded from our analysis.\n",
    "\n",
    "Merging Data: We need to merge the \"image_predictions.tsv\" file with the \"twitter-archive-enhanced.csv\" dataset to gain extra insights and enhance the quality of our analysis.\n",
    "\n",
    "Quality Issues:\n",
    "\n",
    "Invalid Predictions: The \"df_clean\" dataset contains predictions that are not breeds of dogs. We need to filter out non-dog predictions and retain only predictions related to dog breeds. Additionally, we should eliminate predictions with low confidence rates.\n",
    "\n",
    "Data Type Issues: The columns \"in_reply_to_status_id\" and \"in_reply_to_user_id\" are currently stored as float data types. We should convert them to the appropriate integer data type.\n",
    "\n",
    "Timestamp Data Type: The \"timestamp\" column is currently stored as an object (string) data type. We should convert it to a datetime data type for better analysis.\n",
    "\n",
    "Null Values: Null values in various columns are represented as the text \"None.\" We should convert these to actual null values to facilitate data analysis.\n",
    "\n",
    "Final Rating Column: The data lacks a final rating column that combines the numerator and denominator ratings.\n",
    "\n",
    "Multiple Dog Stages: In some cases, tweets have more than one entry for dog stage, which is incorrect. We need to address these inconsistencies and ensure each tweet has only one dog stage.\n",
    "\n",
    "Date Range: There are two records of tweets beyond August 1st, 2017, which is outside the scope of our analysis. We should remove these records.\n",
    "\n",
    "Data Cleaning Process:\n",
    "\n",
    "Merged the doggo, floofer, pupper, and puppo columns into a single \"dog_stage\" column.\n",
    "Removed unnecessary columns related to retweets and tweets without images.\n",
    "Merged the \"image_predictions.tsv\" data with the main dataset.\n",
    "Filtered out non-dog predictions and low-confidence predictions.\n",
    "Converted \"in_reply_to_status_id\" and \"in_reply_to_user_id\" columns to integer data types.\n",
    "Converted the \"timestamp\" column to datetime data type.\n",
    "Replaced \"None\" values with actual null values.\n",
    "Created a final rating column by dividing the numerator by the denominator.\n",
    "Addressed cases where tweets had multiple dog stage entries.\n",
    "Removed records with dates beyond August 1st, 2017.\n",
    "Conclusion:\n",
    "\n",
    "By addressing the tidiness and quality issues in the Twitter dog data, we have prepared a clean and organized dataset for further analysis. This data cleaning process is crucial for ensuring the accuracy and reliability of any future analysis and insights gained from the dataset. With the cleaned data, we are now ready to proceed with in-depth analysis and visualization to uncover valuable insights about Twitter dogs."
   ]
  },
  {
   "cell_type": "code",
   "execution_count": null,
   "metadata": {},
   "outputs": [],
   "source": []
  }
 ],
 "metadata": {
  "kernelspec": {
   "display_name": "Python 3",
   "language": "python",
   "name": "python3"
  },
  "language_info": {
   "codemirror_mode": {
    "name": "ipython",
    "version": 3
   },
   "file_extension": ".py",
   "mimetype": "text/x-python",
   "name": "python",
   "nbconvert_exporter": "python",
   "pygments_lexer": "ipython3",
   "version": "3.6.3"
  }
 },
 "nbformat": 4,
 "nbformat_minor": 2
}
